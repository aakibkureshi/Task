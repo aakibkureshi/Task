{
  "nbformat": 4,
  "nbformat_minor": 0,
  "metadata": {
    "colab": {
      "provenance": []
    },
    "kernelspec": {
      "name": "python3",
      "display_name": "Python 3"
    },
    "language_info": {
      "name": "python"
    }
  },
  "cells": [
    {
      "cell_type": "code",
      "source": [
        "a = 5\n",
        "b = 4\n",
        "print(a+b)"
      ],
      "metadata": {
        "colab": {
          "base_uri": "https://localhost:8080/"
        },
        "id": "vgttuF-cVt6g",
        "outputId": "8377d696-fa87-45a6-fc5a-ad7c5e86d060"
      },
      "execution_count": null,
      "outputs": [
        {
          "output_type": "stream",
          "name": "stdout",
          "text": [
            "9\n"
          ]
        }
      ]
    },
    {
      "cell_type": "code",
      "source": [
        "a = \"aakib\"\n",
        "print(\"Hello\", a)"
      ],
      "metadata": {
        "id": "45qc9tl4Y2CN",
        "colab": {
          "base_uri": "https://localhost:8080/"
        },
        "outputId": "685096c8-5266-4826-dfd2-ba3dc8b6e4b3"
      },
      "execution_count": null,
      "outputs": [
        {
          "output_type": "stream",
          "name": "stdout",
          "text": [
            "Hello aakib\n"
          ]
        }
      ]
    },
    {
      "cell_type": "code",
      "source": [
        "a = 2\n",
        "b = 4\n",
        "\n",
        "maximum = max(a, b)\n",
        "print(maximum)"
      ],
      "metadata": {
        "colab": {
          "base_uri": "https://localhost:8080/"
        },
        "id": "jpOtPx8h91x0",
        "outputId": "7a366af8-bf39-43c1-f9a2-087fb90acb7c"
      },
      "execution_count": null,
      "outputs": [
        {
          "output_type": "stream",
          "name": "stdout",
          "text": [
            "4\n"
          ]
        }
      ]
    },
    {
      "cell_type": "code",
      "source": [
        "print(\"List of months: January, February, March, April, May, June, July, August, September, October, November, December\")\n",
        "month_name = input(\"Input the name of Month: \")\n",
        "\n",
        "if month_name == \"February\":\n",
        "\tprint(\"No. of days: 28/29 days\")\n",
        "elif month_name in (\"April\", \"June\", \"September\", \"November\"):\n",
        "\tprint(\"No. of days: 30 days\")\n",
        "elif month_name in (\"January\", \"March\", \"May\", \"July\", \"August\", \"October\", \"December\"):\n",
        "\tprint(\"No. of days: 31 days\")\n",
        "else:\n",
        "\tprint(\"Wrong month name\")"
      ],
      "metadata": {
        "colab": {
          "base_uri": "https://localhost:8080/"
        },
        "id": "XrHzgaXf_5oR",
        "outputId": "e62ccce8-6195-4436-d0c4-1a9229cdf87c"
      },
      "execution_count": null,
      "outputs": [
        {
          "output_type": "stream",
          "name": "stdout",
          "text": [
            "List of months: January, February, March, April, May, June, July, August, September, October, November, December\n",
            "Input the name of Month: March\n",
            "No. of days: 31 days\n"
          ]
        }
      ]
    },
    {
      "cell_type": "code",
      "source": [
        "str = \"Kureshi\"\n",
        "print(len(str))"
      ],
      "metadata": {
        "colab": {
          "base_uri": "https://localhost:8080/"
        },
        "id": "ORGAKzOjA6IE",
        "outputId": "164045fa-f210-492a-c651-8839cf45e81d"
      },
      "execution_count": null,
      "outputs": [
        {
          "output_type": "stream",
          "name": "stdout",
          "text": [
            "7\n"
          ]
        }
      ]
    },
    {
      "cell_type": "code",
      "source": [
        "a=int(input())\n",
        "if a%3==0:\n",
        "  print(\"Divisible\")\n",
        "else:\n",
        "  print(\"Not divisible\")"
      ],
      "metadata": {
        "colab": {
          "base_uri": "https://localhost:8080/"
        },
        "id": "u3wwKyUDDjea",
        "outputId": "089f7362-5aee-4805-e364-ea42b004184a"
      },
      "execution_count": null,
      "outputs": [
        {
          "output_type": "stream",
          "name": "stdout",
          "text": [
            "15\n",
            "Divisible\n"
          ]
        }
      ]
    },
    {
      "cell_type": "code",
      "source": [
        "a=int(input())\n",
        "if a<0:\n",
        "  print(\"Negative\")\n",
        "elif a>0:\n",
        "  print(\"Positive\")\n",
        "else:\n",
        "  print(\"Zero\")"
      ],
      "metadata": {
        "colab": {
          "base_uri": "https://localhost:8080/"
        },
        "id": "yX8TxCcvCh2X",
        "outputId": "674473c6-2d3b-4464-8b84-0bc960862d64"
      },
      "execution_count": null,
      "outputs": [
        {
          "output_type": "stream",
          "name": "stdout",
          "text": [
            "-8\n",
            "Negative\n"
          ]
        }
      ]
    },
    {
      "cell_type": "code",
      "source": [
        "day = int(input(\"Input birthday: \"))\n",
        "month = input(\"Input month of birth (e.g. march, july etc): \")\n",
        "if month == 'december':\n",
        "\tastro_sign = 'Sagittarius' if (day < 22) else 'capricorn'\n",
        "elif month == 'january':\n",
        "\tastro_sign = 'Capricorn' if (day < 20) else 'aquarius'\n",
        "elif month == 'february':\n",
        "\tastro_sign = 'Aquarius' if (day < 19) else 'pisces'\n",
        "elif month == 'march':\n",
        "\tastro_sign = 'Pisces' if (day < 21) else 'aries'\n",
        "elif month == 'april':\n",
        "\tastro_sign = 'Aries' if (day < 20) else 'taurus'\n",
        "elif month == 'may':\n",
        "\tastro_sign = 'Taurus' if (day < 21) else 'gemini'\n",
        "elif month == 'june':\n",
        "\tastro_sign = 'Gemini' if (day < 21) else 'cancer'\n",
        "elif month == 'july':\n",
        "\tastro_sign = 'Cancer' if (day < 23) else 'leo'\n",
        "elif month == 'august':\n",
        "\tastro_sign = 'Leo' if (day < 23) else 'virgo'\n",
        "elif month == 'september':\n",
        "\tastro_sign = 'Virgo' if (day < 23) else 'libra'\n",
        "elif month == 'october':\n",
        "\tastro_sign = 'Libra' if (day < 23) else 'scorpio'\n",
        "elif month == 'november':\n",
        "\tastro_sign = 'scorpio' if (day < 22) else 'sagittarius'\n",
        "print(\"Your Astrological sign is :\",astro_sign)"
      ],
      "metadata": {
        "colab": {
          "base_uri": "https://localhost:8080/"
        },
        "id": "UJvakVw_H2Vo",
        "outputId": "4bf28d79-7a70-459a-d35f-04a3dc773c98"
      },
      "execution_count": null,
      "outputs": [
        {
          "output_type": "stream",
          "name": "stdout",
          "text": [
            "Input birthday: 1\n",
            "Input month of birth (e.g. march, july etc): july\n",
            "Your Astrological sign is : Cancer\n"
          ]
        }
      ]
    },
    {
      "cell_type": "code",
      "source": [
        "year = int(input(\"Input your birth year: \"))\n",
        "if (year - 2000) % 12 == 0:\n",
        "    sign = 'Dragon'\n",
        "elif (year - 2000) % 12 == 1:\n",
        "    sign = 'Snake'\n",
        "elif (year - 2000) % 12 == 2:\n",
        "    sign = 'Horse'\n",
        "elif (year - 2000) % 12 == 3:\n",
        "    sign = 'sheep'\n",
        "elif (year - 2000) % 12 == 4:\n",
        "    sign = 'Monkey'\n",
        "elif (year - 2000) % 12 == 5:\n",
        "    sign = 'Rooster'\n",
        "elif (year - 2000) % 12 == 6:\n",
        "    sign = 'Dog'\n",
        "elif (year - 2000) % 12 == 7:\n",
        "    sign = 'Pig'\n",
        "elif (year - 2000) % 12 == 8:\n",
        "    sign = 'Rat'\n",
        "elif (year - 2000) % 12 == 9:\n",
        "    sign = 'Ox'\n",
        "elif (year - 2000) % 12 == 10:\n",
        "    sign = 'Tiger'\n",
        "else:\n",
        "    sign = 'Hare'\n",
        "\n",
        "print(\"Your Zodiac sign :\",sign)"
      ],
      "metadata": {
        "colab": {
          "base_uri": "https://localhost:8080/"
        },
        "id": "_M0yJMNSIa3b",
        "outputId": "3a09e38a-3534-4e4b-e314-59dae0405ab1"
      },
      "execution_count": null,
      "outputs": [
        {
          "output_type": "stream",
          "name": "stdout",
          "text": [
            "Input your birth year: 1994\n",
            "Your Zodiac sign : Dog\n"
          ]
        }
      ]
    },
    {
      "cell_type": "code",
      "source": [],
      "metadata": {
        "id": "9RBHj0ebI5vP"
      },
      "execution_count": null,
      "outputs": []
    }
  ]
}